{
 "cells": [
  {
   "cell_type": "markdown",
   "id": "8f30e699",
   "metadata": {},
   "source": [
    "# The Sparks Foundation Task-1"
   ]
  },
  {
   "cell_type": "markdown",
   "id": "763bbcbb",
   "metadata": {},
   "source": [
    "#### Problem Statement- Predict the percentage of a student based on the no. of study hours."
   ]
  },
  {
   "cell_type": "markdown",
   "id": "11f8406e",
   "metadata": {},
   "source": [
    "#### Approach- This is a Linear Regression problem. We can solve it using supervised machine Learning."
   ]
  },
  {
   "cell_type": "markdown",
   "id": "fe7ec753",
   "metadata": {},
   "source": [
    "#### Author: Prakhar Agrawal"
   ]
  },
  {
   "cell_type": "markdown",
   "id": "65b4c466",
   "metadata": {},
   "source": [
    "Importing the required libraries. Here we import the Pandas to import and analyze data, NumPy to perform the multi-dimensional operation, and matplotlib to perform graphical plot into the context."
   ]
  },
  {
   "cell_type": "code",
   "execution_count": 1,
   "id": "12b3ec28",
   "metadata": {},
   "outputs": [],
   "source": [
    "import pandas as pd  \n",
    "import numpy as np    \n",
    "import matplotlib.pyplot as plt  "
   ]
  },
  {
   "cell_type": "markdown",
   "id": "f4b6fa37",
   "metadata": {},
   "source": [
    "The next step is to load the data into the program to perform the desired operation. Here we use the pandas to load the dataset and when data is successfully loaded we print a statement to get confirmation."
   ]
  },
  {
   "cell_type": "code",
   "execution_count": 16,
   "id": "b4c121f9",
   "metadata": {},
   "outputs": [
    {
     "name": "stdout",
     "output_type": "stream",
     "text": [
      "Successfully imported data into console\n"
     ]
    }
   ],
   "source": [
    "data= pd.read_csv(\"http://bit.ly/w-data\")  \n",
    "print(\"Successfully imported data into console\")"
   ]
  },
  {
   "cell_type": "markdown",
   "id": "bf8a50d7",
   "metadata": {},
   "source": [
    "To view the data we use head() function"
   ]
  },
  {
   "cell_type": "code",
   "execution_count": 17,
   "id": "297f066e",
   "metadata": {},
   "outputs": [
    {
     "data": {
      "text/html": [
       "<div>\n",
       "<style scoped>\n",
       "    .dataframe tbody tr th:only-of-type {\n",
       "        vertical-align: middle;\n",
       "    }\n",
       "\n",
       "    .dataframe tbody tr th {\n",
       "        vertical-align: top;\n",
       "    }\n",
       "\n",
       "    .dataframe thead th {\n",
       "        text-align: right;\n",
       "    }\n",
       "</style>\n",
       "<table border=\"1\" class=\"dataframe\">\n",
       "  <thead>\n",
       "    <tr style=\"text-align: right;\">\n",
       "      <th></th>\n",
       "      <th>Hours</th>\n",
       "      <th>Scores</th>\n",
       "    </tr>\n",
       "  </thead>\n",
       "  <tbody>\n",
       "    <tr>\n",
       "      <th>0</th>\n",
       "      <td>2.5</td>\n",
       "      <td>21</td>\n",
       "    </tr>\n",
       "    <tr>\n",
       "      <th>1</th>\n",
       "      <td>5.1</td>\n",
       "      <td>47</td>\n",
       "    </tr>\n",
       "    <tr>\n",
       "      <th>2</th>\n",
       "      <td>3.2</td>\n",
       "      <td>27</td>\n",
       "    </tr>\n",
       "    <tr>\n",
       "      <th>3</th>\n",
       "      <td>8.5</td>\n",
       "      <td>75</td>\n",
       "    </tr>\n",
       "    <tr>\n",
       "      <th>4</th>\n",
       "      <td>3.5</td>\n",
       "      <td>30</td>\n",
       "    </tr>\n",
       "  </tbody>\n",
       "</table>\n",
       "</div>"
      ],
      "text/plain": [
       "   Hours  Scores\n",
       "0    2.5      21\n",
       "1    5.1      47\n",
       "2    3.2      27\n",
       "3    8.5      75\n",
       "4    3.5      30"
      ]
     },
     "execution_count": 17,
     "metadata": {},
     "output_type": "execute_result"
    }
   ],
   "source": [
    "data.head()"
   ]
  },
  {
   "cell_type": "markdown",
   "id": "94625b63",
   "metadata": {},
   "source": [
    "The next step is to enter distribution scores and plot them according to the requirement, here we are going to enter the title, x_label, and y_label, and show it according to the desired result."
   ]
  },
  {
   "cell_type": "code",
   "execution_count": 18,
   "id": "704b33b2",
   "metadata": {},
   "outputs": [
    {
     "data": {
      "image/png": "[encoded data removed]",
      "text/plain": [
       "<Figure size 640x480 with 1 Axes>"
      ]
     },
     "metadata": {},
     "output_type": "display_data"
    }
   ],
   "source": [
    "data.plot(x='Hours', y='Scores', style='*')    \n",
    "plt.title('Hours vs Percentage')    \n",
    "plt.xlabel('Hours Studied')    \n",
    "plt.ylabel('Percentage Score')    \n",
    "plt.show() "
   ]
  },
  {
   "cell_type": "markdown",
   "id": "45ee3e30",
   "metadata": {},
   "source": [
    "From the graph a, we can see that there is a positive linear relation between the number of hours studied and percentage of score."
   ]
  },
  {
   "cell_type": "markdown",
   "id": "eedcaa96",
   "metadata": {},
   "source": [
    "The next step is to divide the data into \"attributes\" (inputs) and \"labels\" (outputs)."
   ]
  },
  {
   "cell_type": "code",
   "execution_count": 5,
   "id": "9d6672a0",
   "metadata": {},
   "outputs": [],
   "source": [
    "X = data.iloc[:, :-1].values  \n",
    "y = data.iloc[:, 1].values "
   ]
  },
  {
   "cell_type": "markdown",
   "id": "ba430d6c",
   "metadata": {},
   "source": [
    "Now we will split the data into training data and testing data. For this we will use Scikit Learn's builtin method of train_test_split()"
   ]
  },
  {
   "cell_type": "code",
   "execution_count": 6,
   "id": "7318ac08",
   "metadata": {},
   "outputs": [],
   "source": [
    "from sklearn.model_selection import train_test_split    \n",
    "X_train, X_test, y_train, y_test = train_test_split(X, y,test_size=0.2, random_state=0)   "
   ]
  },
  {
   "cell_type": "markdown",
   "id": "b2127832",
   "metadata": {},
   "source": [
    "The next process is to train the algorithm, thus the step include the following:"
   ]
  },
  {
   "cell_type": "code",
   "execution_count": 7,
   "id": "240f4397",
   "metadata": {},
   "outputs": [
    {
     "name": "stdout",
     "output_type": "stream",
     "text": [
      "Training ... Completed !.\n"
     ]
    }
   ],
   "source": [
    "from sklearn.linear_model import LinearRegression    \n",
    "regressor = LinearRegression()    \n",
    "regressor.fit(X_train, y_train)   \n",
    "  \n",
    "print(\"Training ... Completed !.\") "
   ]
  },
  {
   "cell_type": "markdown",
   "id": "d38c3ffb",
   "metadata": {},
   "source": [
    "The very next phase is to implement the plotting test data using the previously trained test data:"
   ]
  },
  {
   "cell_type": "code",
   "execution_count": 8,
   "id": "f33349a8",
   "metadata": {},
   "outputs": [
    {
     "data": {
      "image/png": "[encoded data removed]",
      "text/plain": [
       "<Figure size 640x480 with 1 Axes>"
      ]
     },
     "metadata": {},
     "output_type": "display_data"
    }
   ],
   "source": [
    "line = regressor.coef_*X+regressor.intercept_  \n",
    "plt.scatter(X, y)  \n",
    "plt.plot(X, line);  \n",
    "plt.show()  "
   ]
  },
  {
   "cell_type": "markdown",
   "id": "57642cf8",
   "metadata": {},
   "source": [
    "Predicting the scores for the model is the next important step towards knowing our model, as we proceed as follows,"
   ]
  },
  {
   "cell_type": "code",
   "execution_count": 9,
   "id": "645fdacc",
   "metadata": {},
   "outputs": [
    {
     "name": "stdout",
     "output_type": "stream",
     "text": [
      "[[1.5]\n",
      " [3.2]\n",
      " [7.4]\n",
      " [2.5]\n",
      " [5.9]]\n"
     ]
    }
   ],
   "source": [
    "print(X_test)   \n",
    "y_pred = regressor.predict(X_test)"
   ]
  },
  {
   "cell_type": "markdown",
   "id": "acf7073a",
   "metadata": {},
   "source": [
    "Comparing the actual versus predicted model to understand our model fitting,"
   ]
  },
  {
   "cell_type": "code",
   "execution_count": 10,
   "id": "1748b482",
   "metadata": {},
   "outputs": [
    {
     "data": {
      "text/html": [
       "<div>\n",
       "<style scoped>\n",
       "    .dataframe tbody tr th:only-of-type {\n",
       "        vertical-align: middle;\n",
       "    }\n",
       "\n",
       "    .dataframe tbody tr th {\n",
       "        vertical-align: top;\n",
       "    }\n",
       "\n",
       "    .dataframe thead th {\n",
       "        text-align: right;\n",
       "    }\n",
       "</style>\n",
       "<table border=\"1\" class=\"dataframe\">\n",
       "  <thead>\n",
       "    <tr style=\"text-align: right;\">\n",
       "      <th></th>\n",
       "      <th>Actual</th>\n",
       "      <th>Predicted</th>\n",
       "    </tr>\n",
       "  </thead>\n",
       "  <tbody>\n",
       "    <tr>\n",
       "      <th>0</th>\n",
       "      <td>20</td>\n",
       "      <td>16.884145</td>\n",
       "    </tr>\n",
       "    <tr>\n",
       "      <th>1</th>\n",
       "      <td>27</td>\n",
       "      <td>33.732261</td>\n",
       "    </tr>\n",
       "    <tr>\n",
       "      <th>2</th>\n",
       "      <td>69</td>\n",
       "      <td>75.357018</td>\n",
       "    </tr>\n",
       "    <tr>\n",
       "      <th>3</th>\n",
       "      <td>30</td>\n",
       "      <td>26.794801</td>\n",
       "    </tr>\n",
       "    <tr>\n",
       "      <th>4</th>\n",
       "      <td>62</td>\n",
       "      <td>60.491033</td>\n",
       "    </tr>\n",
       "  </tbody>\n",
       "</table>\n",
       "</div>"
      ],
      "text/plain": [
       "   Actual  Predicted\n",
       "0      20  16.884145\n",
       "1      27  33.732261\n",
       "2      69  75.357018\n",
       "3      30  26.794801\n",
       "4      62  60.491033"
      ]
     },
     "execution_count": 10,
     "metadata": {},
     "output_type": "execute_result"
    }
   ],
   "source": [
    "df = pd.DataFrame({'Actual': y_test, 'Predicted': y_pred})    \n",
    "df  "
   ]
  },
  {
   "cell_type": "markdown",
   "id": "059c434a",
   "metadata": {},
   "source": [
    "Now it's time to test our model with sample testing hours, so in this case, we take 7 hours, i.e, if a student studies for seven hours, approximately how many marks he can get based on the data we received and the model we applied."
   ]
  },
  {
   "cell_type": "code",
   "execution_count": 20,
   "id": "180975a9",
   "metadata": {},
   "outputs": [
    {
     "name": "stdout",
     "output_type": "stream",
     "text": [
      "Number of hours = [[9.25]]\n",
      "Prediction Score = 93.69173248737539\n"
     ]
    }
   ],
   "source": [
    "hours = [[9.25]]  \n",
    "own_pred = regressor.predict(hours)  \n",
    "print(\"Number of hours = {}\".format(hours))  \n",
    "print(\"Prediction Score = {}\".format(own_pred[0]))"
   ]
  },
  {
   "cell_type": "markdown",
   "id": "c68cfe2e",
   "metadata": {},
   "source": [
    "The final step is to evaluate the performance of algorithm."
   ]
  },
  {
   "cell_type": "code",
   "execution_count": 14,
   "id": "11b178ae",
   "metadata": {},
   "outputs": [
    {
     "name": "stdout",
     "output_type": "stream",
     "text": [
      "Mean Absolute Error: 4.183859899002982\n"
     ]
    }
   ],
   "source": [
    "from sklearn import metrics  \n",
    "print('Mean Absolute Error:',metrics.mean_absolute_error(y_test, y_pred))"
   ]
  }
 ],
 "metadata": {
  "kernelspec": {
   "display_name": "Python 3 (ipykernel)",
   "language": "python",
   "name": "python3"
  },
  "language_info": {
   "codemirror_mode": {
    "name": "ipython",
    "version": 3
   },
   "file_extension": ".py",
   "mimetype": "text/x-python",
   "name": "python",
   "nbconvert_exporter": "python",
   "pygments_lexer": "ipython3",
   "version": "3.9.13"
  }
 },
 "nbformat": 4,
 "nbformat_minor": 5
}
